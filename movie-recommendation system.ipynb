{
 "cells": [
  {
   "cell_type": "code",
   "execution_count": 1,
   "metadata": {
    "execution": {
     "iopub.execute_input": "2022-11-22T15:43:32.782393Z",
     "iopub.status.busy": "2022-11-22T15:43:32.781937Z",
     "iopub.status.idle": "2022-11-22T15:43:32.788491Z",
     "shell.execute_reply": "2022-11-22T15:43:32.787218Z",
     "shell.execute_reply.started": "2022-11-22T15:43:32.782354Z"
    }
   },
   "outputs": [],
   "source": [
    "import numpy as np\n",
    "import pandas as pd\n",
    "import matplotlib.pyplot as plt\n",
    "import warnings\n",
    "warnings.filterwarnings('ignore')"
   ]
  },
  {
   "cell_type": "code",
   "execution_count": 2,
   "metadata": {
    "execution": {
     "iopub.execute_input": "2022-11-22T15:43:32.791325Z",
     "iopub.status.busy": "2022-11-22T15:43:32.790735Z",
     "iopub.status.idle": "2022-11-22T15:43:38.645425Z",
     "shell.execute_reply": "2022-11-22T15:43:38.644190Z",
     "shell.execute_reply.started": "2022-11-22T15:43:32.791287Z"
    }
   },
   "outputs": [],
   "source": [
    "movies=pd.read_csv('10000 Movies Data')\n",
    "credits=pd.read_csv('10000 Credits Data')"
   ]
  },
  {
   "cell_type": "code",
   "execution_count": 3,
   "metadata": {
    "_kg_hide-input": true,
    "execution": {
     "iopub.execute_input": "2022-11-22T15:43:38.647539Z",
     "iopub.status.busy": "2022-11-22T15:43:38.647145Z",
     "iopub.status.idle": "2022-11-22T15:43:38.655134Z",
     "shell.execute_reply": "2022-11-22T15:43:38.653496Z",
     "shell.execute_reply.started": "2022-11-22T15:43:38.647505Z"
    }
   },
   "outputs": [],
   "source": [
    "# credits['Crew']"
   ]
  },
  {
   "cell_type": "code",
   "execution_count": 4,
   "metadata": {
    "_kg_hide-input": true,
    "_kg_hide-output": true,
    "execution": {
     "iopub.execute_input": "2022-11-22T15:43:38.656688Z",
     "iopub.status.busy": "2022-11-22T15:43:38.656294Z",
     "iopub.status.idle": "2022-11-22T15:43:38.681130Z",
     "shell.execute_reply": "2022-11-22T15:43:38.679649Z",
     "shell.execute_reply.started": "2022-11-22T15:43:38.656650Z"
    }
   },
   "outputs": [
    {
     "name": "stdout",
     "output_type": "stream",
     "text": [
      "[{'adult': False, 'gender': 2, 'id': 3084, 'known_for_department': 'Acting', 'name': 'Marlon Brando', 'original_name': 'Marlon Brando', 'popularity': 15.274, 'profile_path': '/fuTEPMsBtV1zE98ujPONbKiYDc2.jpg', 'cast_id': 5, 'character': 'Don Vito Corleone', 'credit_id': '52fe422bc3a36847f8009357', 'order': 0}, {'adult': False, 'gender': 2, 'id': 1158, 'known_for_department': 'Acting', 'name': 'Al Pacino', 'original_name': 'Al Pacino', 'popularity': 32.169, 'profile_path': '/fMDFeVf0pjopTJbyRSLFwNDm8Wr.jpg', 'cast_id': 6, 'character': 'Don Michael Corleone', 'credit_id': '52fe422bc3a36847f800935b', 'order': 1}, {'adult': False, 'gender': 2, 'id': 3085, 'known_for_department': 'Acting', 'name': 'James Caan', 'original_name': 'James Caan', 'popularity': 23.916, 'profile_path': '/bGyOCCOIgcIyKjOGLoXoyp0XWHf.jpg', 'cast_id': 7, 'character': \"Santino 'Sonny' Corleone\", 'credit_id': '52fe422bc3a36847f800935f', 'order': 2}, {'adult': False, 'gender': 2, 'id': 3087, 'known_for_department': 'Acting', 'name': 'Robert Duvall', 'original_name': 'Robert Duvall', 'popularity': 24.079, 'profile_path': '/ybMmK25h4IVtfE7qrnlVp47RQlh.jpg', 'cast_id': 9, 'character': 'Tom Hagen', 'credit_id': '52fe422bc3a36847f8009367', 'order': 3}, {'adult': False, 'gender': 0, 'id': 3086, 'known_for_department': 'Acting', 'name': 'Richard S. Castellano', 'original_name': 'Richard S. Castellano', 'popularity': 10.388, 'profile_path': '/1vr75BdHWret81vuSJ3ugiCBkxw.jpg', 'cast_id': 8, 'character': 'Pete Clemenza', 'credit_id': '52fe422bc3a36847f8009363', 'order': 4}, {'adult': False, 'gender': 1, 'id': 3092, 'known_for_department': 'Acting', 'name': 'Diane Keaton', 'original_name': 'Diane Keaton', 'popularity': 21.404, 'profile_path': '/7gEdH5vGwpUpogscTb2JivnoRBb.jpg', 'cast_id': 13, 'character': 'Kay Adams', 'credit_id': '52fe422bc3a36847f8009377', 'order': 5}, {'adult': False, 'gender': 1, 'id': 3094, 'known_for_department': 'Acting', 'name': 'Talia Shire', 'original_name': 'Talia Shire', 'popularity': 14.677, 'profile_path': '/due9MtmbvCMDd1aNveuMyjsaZ8W.jpg', 'cast_id': 15, 'character': \"Constanzia 'Connie' Corleone-Rizzi\", 'credit_id': '52fe422bc3a36847f800937f', 'order': 6}, {'adult': False, 'gender': 2, 'id': 3095, 'known_for_department': 'Acting', 'name': 'Gianni Russo', 'original_name': 'Gianni Russo', 'popularity': 8.099, 'profile_path': '/5fjg2WPvuk1NvUpLyQ7aMJqOqy.jpg', 'cast_id': 16, 'character': 'Carlo Rizzi', 'credit_id': '52fe422bc3a36847f8009383', 'order': 7}, {'adult': False, 'gender': 2, 'id': 3088, 'known_for_department': 'Acting', 'name': 'Sterling Hayden', 'original_name': 'Sterling Hayden', 'popularity': 12.446, 'profile_path': '/j1ExJbuBqBa6WEhPVW4J7YGFBWs.jpg', 'cast_id': 10, 'character': 'Capt. Mark McCluskey', 'credit_id': '52fe422bc3a36847f800936b', 'order': 8}, {'adult': False, 'gender': 2, 'id': 3091, 'known_for_department': 'Acting', 'name': 'Al Lettieri', 'original_name': 'Al Lettieri', 'popularity': 8.127, 'profile_path': '/fE5mEWPkkVJlCji0EoKht8PYw89.jpg', 'cast_id': 12, 'character': \"Virgil 'The Turk' Sollozzo\", 'credit_id': '52fe422bc3a36847f8009373', 'order': 9}, {'adult': False, 'gender': 2, 'id': 3093, 'known_for_department': 'Acting', 'name': 'Abe Vigoda', 'original_name': 'Abe Vigoda', 'popularity': 6.822, 'profile_path': '/luWKPNb58IgJ2ovrtgPAzHGLLYL.jpg', 'cast_id': 14, 'character': \"Salvatore 'Sal' Tessio\", 'credit_id': '52fe422bc3a36847f800937b', 'order': 10}, {'adult': False, 'gender': 2, 'id': 3096, 'known_for_department': 'Acting', 'name': 'John Cazale', 'original_name': 'John Cazale', 'popularity': 10.158, 'profile_path': '/tRBImYIYk9tuR4fjJc8gHXC8ENj.jpg', 'cast_id': 17, 'character': \"Frederico 'Fredo' Corleone\", 'credit_id': '52fe422bc3a36847f8009387', 'order': 11}, {'adult': False, 'gender': 2, 'id': 3090, 'known_for_department': 'Acting', 'name': 'Richard Conte', 'original_name': 'Richard Conte', 'popularity': 9.971, 'profile_path': '/pTTzNets0bgWAqx18D7by0hWUea.jpg', 'cast_id': 11, 'character': 'Don Emilio Barzini', 'credit_id': '52fe422bc3a36847f800936f', 'order': 12}, {'adult': False, 'gender': 2, 'id': 3142, 'known_for_department': 'Acting', 'name': 'John Marley', 'original_name': 'John Marley', 'popularity': 2.497, 'profile_path': None, 'cast_id': 33, 'character': 'Jack Woltz', 'credit_id': '52fe422bc3a36847f800938b', 'order': 13}, {'adult': False, 'gender': 2, 'id': 3143, 'known_for_department': 'Acting', 'name': 'Rudy Bond', 'original_name': 'Rudy Bond', 'popularity': 1.948, 'profile_path': '/kP77m6ot9dfOR2V3ykbyOAx2diK.jpg', 'cast_id': 34, 'character': 'Carmine Cuneo', 'credit_id': '52fe422bc3a36847f800938f', 'order': 14}, {'adult': False, 'gender': 2, 'id': 3144, 'known_for_department': 'Acting', 'name': 'Al Martino', 'original_name': 'Al Martino', 'popularity': 2.803, 'profile_path': '/9luOyyiqWFNQgSOSStH66LTWZ3p.jpg', 'cast_id': 35, 'character': 'Johnny Fontane', 'credit_id': '52fe422bc3a36847f8009393', 'order': 15}, {'adult': False, 'gender': 1, 'id': 933716, 'known_for_department': 'Acting', 'name': 'Morgana King', 'original_name': 'Morgana King', 'popularity': 1.88, 'profile_path': '/zPsFAqH4NXD7rMWl2Kj3rEyGrKj.jpg', 'cast_id': 42, 'character': \"Carmela 'Mama' Corleone\", 'credit_id': '52fe422bc3a36847f80093a7', 'order': 16}, {'adult': False, 'gender': 2, 'id': 106811, 'known_for_department': 'Acting', 'name': 'Lenny Montana', 'original_name': 'Lenny Montana', 'popularity': 3.293, 'profile_path': '/3R52Zh3MBCaSPqmcyWcD1Y0N4wo.jpg', 'cast_id': 45, 'character': 'Luca Brasi', 'credit_id': '52fe422bc3a36847f80093b3', 'order': 17}, {'adult': False, 'gender': 2, 'id': 99724, 'known_for_department': 'Acting', 'name': 'John Martino', 'original_name': 'John Martino', 'popularity': 1.327, 'profile_path': '/3c8BOgJ8UdHi5x5BS3lYnFngxB5.jpg', 'cast_id': 47, 'character': 'Paulie Gatto', 'credit_id': '52fe422bc3a36847f80093bb', 'order': 18}, {'adult': False, 'gender': 2, 'id': 20752, 'known_for_department': 'Acting', 'name': 'Alex Rocco', 'original_name': 'Alex Rocco', 'popularity': 5.939, 'profile_path': '/u2JStL4Pk9Huq1xmrjqezfysivt.jpg', 'cast_id': 41, 'character': 'Moe Greene', 'credit_id': '52fe422bc3a36847f80093a3', 'order': 19}, {'adult': False, 'gender': 0, 'id': 1195877, 'known_for_department': 'Acting', 'name': 'Salvatore Corsitto', 'original_name': 'Salvatore Corsitto', 'popularity': 3.583, 'profile_path': '/79OfgwtdP5qsR1UX6ERkrdmRT8c.jpg', 'cast_id': 46, 'character': 'Amerigo Bonasera', 'credit_id': '52fe422bc3a36847f80093b7', 'order': 20}, {'adult': False, 'gender': 2, 'id': 3414, 'known_for_department': 'Acting', 'name': 'Tony Giorgio', 'original_name': 'Tony Giorgio', 'popularity': 2.891, 'profile_path': '/1uhgwgjoX7WaakEOBmtBRJKtgEB.jpg', 'cast_id': 38, 'character': 'Bruno Tattaglia', 'credit_id': '52fe422bc3a36847f800939f', 'order': 21}, {'adult': False, 'gender': 2, 'id': 3413, 'known_for_department': 'Acting', 'name': 'Victor Rendina', 'original_name': 'Victor Rendina', 'popularity': 3.206, 'profile_path': '/vuNdsjDpgom80WBdB2WBTWuEIuM.jpg', 'cast_id': 37, 'character': 'Philip Tattaglia', 'credit_id': '52fe422bc3a36847f800939b', 'order': 22}, {'adult': False, 'gender': 1, 'id': 3145, 'known_for_department': 'Acting', 'name': 'Simonetta Stefanelli', 'original_name': 'Simonetta Stefanelli', 'popularity': 9.643, 'profile_path': '/sVDrhgxuE6SHnj7q07OG6ywPUYR.jpg', 'cast_id': 36, 'character': 'Apollonia Vitelli-Corleone', 'credit_id': '52fe422bc3a36847f8009397', 'order': 23}, {'adult': False, 'gender': 2, 'id': 119431, 'known_for_department': 'Acting', 'name': 'Saro Urzì', 'original_name': 'Saro Urzì', 'popularity': 1.858, 'profile_path': '/nPJytCpcNdG5ssPoKeEvxM6xifx.jpg', 'cast_id': 48, 'character': 'Mr. Vitelli', 'credit_id': '52fe422bc3a36847f80093bf', 'order': 24}, {'adult': False, 'gender': 1, 'id': 1769, 'known_for_department': 'Directing', 'name': 'Sofia Coppola', 'original_name': 'Sofia Coppola', 'popularity': 8.353, 'profile_path': '/dzHC2LxmarkBxWLhjp2DRa5oCev.jpg', 'cast_id': 43, 'character': 'Michael Francis Rizzi', 'credit_id': '52fe422bc3a36847f80093ab', 'order': 25}, {'adult': False, 'gender': 2, 'id': 20973, 'known_for_department': 'Acting', 'name': 'Louis Guss', 'original_name': 'Louis Guss', 'popularity': 3.076, 'profile_path': '/hz5Akuh4QcqitlifYwDiZ9ut6Tr.jpg', 'cast_id': 44, 'character': 'Don Zaluchi', 'credit_id': '52fe422bc3a36847f80093af', 'order': 26}, {'adult': False, 'gender': 2, 'id': 3174, 'known_for_department': 'Acting', 'name': 'Richard Bright', 'original_name': 'Richard Bright', 'popularity': 6.476, 'profile_path': '/potMaJ2u5PRjXZb7qF9lSW1ldNZ.jpg', 'cast_id': 70, 'character': 'Neri', 'credit_id': '55be4cdbc3a3683921003065', 'order': 27}, {'adult': False, 'gender': 2, 'id': 82779, 'known_for_department': 'Acting', 'name': 'Vito Scotti', 'original_name': 'Vito Scotti', 'popularity': 5.8, 'profile_path': '/zDGtXkASxpo3DzMNz6OI3NOp9v0.jpg', 'cast_id': 71, 'character': 'Nazorine', 'credit_id': '55be4cff9251413e49004a59', 'order': 28}, {'adult': False, 'gender': 1, 'id': 982089, 'known_for_department': 'Acting', 'name': 'Tere Livrano', 'original_name': 'Tere Livrano', 'popularity': 2.217, 'profile_path': '/eBoC3425jmwRlsT2W8qUDsNwVXB.jpg', 'cast_id': 72, 'character': 'Theresa Hagen', 'credit_id': '55be4d40c3a368392100306d', 'order': 29}, {'adult': False, 'gender': 1, 'id': 160728, 'known_for_department': 'Acting', 'name': 'Julie Gregg', 'original_name': 'Julie Gregg', 'popularity': 2.669, 'profile_path': '/8Kx71BnZNtpzb86jH7fcArWhJBh.jpg', 'cast_id': 77, 'character': \"Sandrinella 'Sandra' Corleone\", 'credit_id': '55ee4ac0c3a3686f170063c4', 'order': 30}, {'adult': False, 'gender': 2, 'id': 27647, 'known_for_department': 'Acting', 'name': 'Angelo Infanti', 'original_name': 'Angelo Infanti', 'popularity': 4.573, 'profile_path': '/dkRVpiDj9YyiuM15XZKT11zZBIR.jpg', 'cast_id': 74, 'character': 'Fabrizio', 'credit_id': '55be4dffc3a368652600471c', 'order': 31}, {'adult': False, 'gender': 2, 'id': 24604, 'known_for_department': 'Acting', 'name': 'Corrado Gaipa', 'original_name': 'Corrado Gaipa', 'popularity': 2.558, 'profile_path': '/7vR2BOdVw9FwJKjgpcisjKEytnL.jpg', 'cast_id': 75, 'character': 'Don Tommasino', 'credit_id': '55be4e2fc3a3686534005572', 'order': 32}, {'adult': False, 'gender': 2, 'id': 44860, 'known_for_department': 'Acting', 'name': 'Franco Citti', 'original_name': 'Franco Citti', 'popularity': 2.498, 'profile_path': '/mttQPjOHaql4RKsfYriUA7HuROE.jpg', 'cast_id': 76, 'character': 'Calò', 'credit_id': '55be4e5bc3a3683921003083', 'order': 33}, {'adult': False, 'gender': 0, 'id': 138211, 'known_for_department': 'Acting', 'name': 'Gabriele Torrei', 'original_name': 'Gabriele Torrei', 'popularity': 2.653, 'profile_path': '/x3KeYWTWX5SqZ3NuQGiWiadO4DI.jpg', 'cast_id': 49, 'character': 'Enzo the Baker (uncredited)', 'credit_id': '52fe422bc3a36847f80093c3', 'order': 34}, {'adult': False, 'gender': 2, 'id': 55672, 'known_for_department': 'Acting', 'name': 'Tony King', 'original_name': 'Tony King', 'popularity': 3.56, 'profile_path': '/hOVVHEyc6euuuRhCLo6Q5YE4lLz.jpg', 'cast_id': 69, 'character': 'Tony the Stablehand (uncredited)', 'credit_id': '54de315fc3a3685446001351', 'order': 35}, {'adult': False, 'gender': 0, 'id': 178006, 'known_for_department': 'Acting', 'name': 'Max Brandt', 'original_name': 'Max Brandt', 'popularity': 0.991, 'profile_path': None, 'cast_id': 78, 'character': 'Extra in Furniture-Moving Scene (uncredited)', 'credit_id': '55f1b3c992514167010020a7', 'order': 36}, {'adult': False, 'gender': 2, 'id': 2872, 'known_for_department': 'Sound', 'name': 'Carmine Coppola', 'original_name': 'Carmine Coppola', 'popularity': 2.829, 'profile_path': '/iURpKXIgdtQoVCBQ8GKGvb0Qw5z.jpg', 'cast_id': 79, 'character': 'Piano Player in Montage (uncredited)', 'credit_id': '55f1b3ffc3a368230a00239f', 'order': 37}, {'adult': False, 'gender': 2, 'id': 38803, 'known_for_department': 'Writing', 'name': 'Roman Coppola', 'original_name': 'Roman Coppola', 'popularity': 4.894, 'profile_path': '/rKamKkx78qjZTfvqi2OWCo5p6x5.jpg', 'cast_id': 80, 'character': 'Boy on Street Who Attended Funeral (uncredited)', 'credit_id': '55f1b452c3a36822f5002395', 'order': 38}, {'adult': False, 'gender': 0, 'id': 1209294, 'known_for_department': 'Acting', 'name': 'Don Costello', 'original_name': 'Don Costello', 'popularity': 1.38, 'profile_path': None, 'cast_id': 81, 'character': 'Don Victor Stracci (uncredited)', 'credit_id': '55f1b4bac3a3682303002284', 'order': 39}, {'adult': False, 'gender': 2, 'id': 1394703, 'known_for_department': 'Acting', 'name': 'Robert Dahdah', 'original_name': 'Robert Dahdah', 'popularity': 0.6, 'profile_path': None, 'cast_id': 82, 'character': 'Crowd (uncredited)', 'credit_id': '55f1b4de925141670d002392', 'order': 40}, {'adult': False, 'gender': 2, 'id': 2870, 'known_for_department': 'Production', 'name': 'Gray Frederickson', 'original_name': 'Gray Frederickson', 'popularity': 3.018, 'profile_path': None, 'cast_id': 83, 'character': \"Cowboy on the Set at Woltz's Studio (uncredited)\", 'credit_id': '55f1b507925141670d00239a', 'order': 41}, {'adult': False, 'gender': 2, 'id': 160621, 'known_for_department': 'Acting', 'name': 'Ron Gilbert', 'original_name': 'Ron Gilbert', 'popularity': 0.783, 'profile_path': '/qrY6w2k0YpuMB2yTCOv6cxeQtmw.jpg', 'cast_id': 84, 'character': 'Usher in Bridal Party (uncredited)', 'credit_id': '55f1b52f9251416711002211', 'order': 42}, {'adult': False, 'gender': 2, 'id': 1233541, 'known_for_department': 'Acting', 'name': 'Sonny Grosso', 'original_name': 'Sonny Grosso', 'popularity': 2.238, 'profile_path': None, 'cast_id': 87, 'character': 'Cop Outside Hospital (uncredited)', 'credit_id': '55f1b5bb925141670100210a', 'order': 43}, {'adult': False, 'gender': 2, 'id': 1503036, 'known_for_department': 'Acting', 'name': 'Joe Lo Grippo', 'original_name': 'Joe Lo Grippo', 'popularity': 0.6, 'profile_path': None, 'cast_id': 86, 'character': \"Sonny's Bodyguard (uncredited)\", 'credit_id': '55f1b59dc3a3683bec00231e', 'order': 44}, {'adult': False, 'gender': 2, 'id': 1068099, 'known_for_department': 'Acting', 'name': 'Randy Jurgensen', 'original_name': 'Randy Jurgensen', 'popularity': 0.786, 'profile_path': '/xRoN79wRLndTMCJoaBSsdjQVIzI.jpg', 'cast_id': 89, 'character': \"Sonny's Killer #1 (uncredited)\", 'credit_id': '55f1b61ec3a3683bec002335', 'order': 45}, {'adult': False, 'gender': 2, 'id': 61241, 'known_for_department': 'Acting', 'name': 'Tony Lip', 'original_name': 'Tony Lip', 'popularity': 7.085, 'profile_path': '/6xz6XmjgiCCOm067OzWYziD4Mxa.jpg', 'cast_id': 90, 'character': 'Wedding Guest (uncredited)', 'credit_id': '55f1b685c3a36823070023b6', 'order': 46}, {'adult': False, 'gender': 2, 'id': 106187, 'known_for_department': 'Acting', 'name': 'Lou Martini Jr.', 'original_name': 'Lou Martini Jr.', 'popularity': 1.631, 'profile_path': '/85s5KR0BA6dhMJtOrvtKGY8Bz8E.jpg', 'cast_id': 91, 'character': 'Boy at Wedding (uncredited)', 'credit_id': '55f1b6c39251416701002141', 'order': 47}, {'adult': False, 'gender': 2, 'id': 100503, 'known_for_department': 'Acting', 'name': 'Raymond Martino', 'original_name': 'Raymond Martino', 'popularity': 1.135, 'profile_path': None, 'cast_id': 92, 'character': 'Corleone Family Member (uncredited)', 'credit_id': '55f1b6e59251416711002257', 'order': 48}, {'adult': False, 'gender': 2, 'id': 1503035, 'known_for_department': 'Acting', 'name': 'Joseph Medaglia', 'original_name': 'Joseph Medaglia', 'popularity': 1.667, 'profile_path': None, 'cast_id': 93, 'character': 'Priest at Baptism (uncredited)', 'credit_id': '55f1b73dc3a3685eb80005f7', 'order': 49}, {'adult': False, 'gender': 0, 'id': 1290895, 'known_for_department': 'Acting', 'name': 'Rick Petrucelli', 'original_name': 'Rick Petrucelli', 'popularity': 1.597, 'profile_path': None, 'cast_id': 94, 'character': 'Man in Passenger Seat (uncredited)', 'credit_id': '55f1b769925141671400218e', 'order': 50}, {'adult': False, 'gender': 0, 'id': 1237372, 'known_for_department': 'Acting', 'name': 'Sal Richards', 'original_name': 'Sal Richards', 'popularity': 1.16, 'profile_path': '/gZSiZOtBVv1U4hqjlKkPr2p5rCP.jpg', 'cast_id': 95, 'character': 'Drunk (uncredited)', 'credit_id': '55f1b7c29251410d6d000acb', 'order': 51}, {'adult': False, 'gender': 2, 'id': 1213795, 'known_for_department': 'Acting', 'name': 'Tom Rosqui', 'original_name': 'Tom Rosqui', 'popularity': 3.503, 'profile_path': None, 'cast_id': 96, 'character': 'Rocco Lampone (uncredited)', 'credit_id': '55f1b7e2925141670d00243a', 'order': 52}, {'adult': False, 'gender': 2, 'id': 11480, 'known_for_department': 'Acting', 'name': 'Frank Sivero', 'original_name': 'Frank Sivero', 'popularity': 4.499, 'profile_path': '/eqvhj0iNtcsN6EJhd21Goqi1DSq.jpg', 'cast_id': 97, 'character': 'Street Extra (uncredited)', 'credit_id': '55f1b81092514167140021b1', 'order': 53}, {'adult': False, 'gender': 0, 'id': 1209678, 'known_for_department': 'Acting', 'name': 'Filomena Spagnuolo', 'original_name': 'Filomena Spagnuolo', 'popularity': 0.6, 'profile_path': None, 'cast_id': 98, 'character': 'Extra in Wedding Scene (uncredited)', 'credit_id': '55f1b83592514167140021c1', 'order': 54}, {'adult': False, 'gender': 2, 'id': 78336, 'known_for_department': 'Directing', 'name': 'Nick Vallelonga', 'original_name': 'Nick Vallelonga', 'popularity': 8.561, 'profile_path': '/h0GwAHN1J5lDysqgWxMIg66LNBW.jpg', 'cast_id': 100, 'character': 'Wedding Party Guest (uncredited)', 'credit_id': '55f1b89b9251410d6d000af0', 'order': 55}, {'adult': False, 'gender': 2, 'id': 16525, 'known_for_department': 'Acting', 'name': 'Joe Spinell', 'original_name': 'Joe Spinell', 'popularity': 4.913, 'profile_path': '/rdDEi8SJSx9OwVJQaHNa3VfZBRM.jpg', 'cast_id': 99, 'character': \"William 'Willie' Cicci (uncredited)\", 'credit_id': '55f1b85d925141670500228d', 'order': 56}, {'adult': False, 'gender': 2, 'id': 1234848, 'known_for_department': 'Acting', 'name': 'Conrad Yama', 'original_name': 'Conrad Yama', 'popularity': 1.287, 'profile_path': None, 'cast_id': 101, 'character': 'Fruit Vendor (uncredited)', 'credit_id': '55f1b90892514167050022a8', 'order': 57}]\n"
     ]
    }
   ],
   "source": [
    "a=credits['Cast']\n",
    "for i in range (len(a)):\n",
    "    print(a[i])\n",
    "    break"
   ]
  },
  {
   "cell_type": "code",
   "execution_count": 5,
   "metadata": {
    "execution": {
     "iopub.execute_input": "2022-11-22T15:43:38.685693Z",
     "iopub.status.busy": "2022-11-22T15:43:38.684925Z",
     "iopub.status.idle": "2022-11-22T15:43:38.701824Z",
     "shell.execute_reply": "2022-11-22T15:43:38.700611Z",
     "shell.execute_reply.started": "2022-11-22T15:43:38.685640Z"
    }
   },
   "outputs": [],
   "source": [
    "credits=credits.drop(\"title\",axis=1)"
   ]
  },
  {
   "cell_type": "code",
   "execution_count": 6,
   "metadata": {
    "execution": {
     "iopub.execute_input": "2022-11-22T15:43:38.703703Z",
     "iopub.status.busy": "2022-11-22T15:43:38.703281Z",
     "iopub.status.idle": "2022-11-22T15:43:38.731612Z",
     "shell.execute_reply": "2022-11-22T15:43:38.730205Z",
     "shell.execute_reply.started": "2022-11-22T15:43:38.703666Z"
    }
   },
   "outputs": [],
   "source": [
    "movies=movies.merge(credits,on='Movie_id')"
   ]
  },
  {
   "cell_type": "code",
   "execution_count": 7,
   "metadata": {
    "execution": {
     "iopub.execute_input": "2022-11-22T15:43:38.733563Z",
     "iopub.status.busy": "2022-11-22T15:43:38.733161Z",
     "iopub.status.idle": "2022-11-22T15:43:38.764739Z",
     "shell.execute_reply": "2022-11-22T15:43:38.763220Z",
     "shell.execute_reply.started": "2022-11-22T15:43:38.733527Z"
    }
   },
   "outputs": [
    {
     "data": {
      "text/html": [
       "<div>\n",
       "<style scoped>\n",
       "    .dataframe tbody tr th:only-of-type {\n",
       "        vertical-align: middle;\n",
       "    }\n",
       "\n",
       "    .dataframe tbody tr th {\n",
       "        vertical-align: top;\n",
       "    }\n",
       "\n",
       "    .dataframe thead th {\n",
       "        text-align: right;\n",
       "    }\n",
       "</style>\n",
       "<table border=\"1\" class=\"dataframe\">\n",
       "  <thead>\n",
       "    <tr style=\"text-align: right;\">\n",
       "      <th></th>\n",
       "      <th>Unnamed: 0_x</th>\n",
       "      <th>Movie_id</th>\n",
       "      <th>title</th>\n",
       "      <th>Genres</th>\n",
       "      <th>release_date</th>\n",
       "      <th>Keywords</th>\n",
       "      <th>overview</th>\n",
       "      <th>poster_path</th>\n",
       "      <th>Budget</th>\n",
       "      <th>Revenue</th>\n",
       "      <th>popularity</th>\n",
       "      <th>vote_average</th>\n",
       "      <th>vote_count</th>\n",
       "      <th>Unnamed: 0_y</th>\n",
       "      <th>Cast</th>\n",
       "      <th>Crew</th>\n",
       "    </tr>\n",
       "  </thead>\n",
       "  <tbody>\n",
       "    <tr>\n",
       "      <th>0</th>\n",
       "      <td>0</td>\n",
       "      <td>238</td>\n",
       "      <td>The Godfather</td>\n",
       "      <td>[{'id': 18, 'name': 'Drama'}, {'id': 80, 'name...</td>\n",
       "      <td>1972-03-14</td>\n",
       "      <td>[{'id': 131, 'name': 'italy'}, {'id': 697, 'na...</td>\n",
       "      <td>Spanning the years 1945 to 1955, a chronicle o...</td>\n",
       "      <td>/3bhkrj58Vtu7enYsRolD1fZdja1.jpg</td>\n",
       "      <td>245066411</td>\n",
       "      <td>245066411</td>\n",
       "      <td>93.552</td>\n",
       "      <td>8.7</td>\n",
       "      <td>16814</td>\n",
       "      <td>0</td>\n",
       "      <td>[{'adult': False, 'gender': 2, 'id': 3084, 'kn...</td>\n",
       "      <td>[{'adult': False, 'gender': 2, 'id': 154, 'kno...</td>\n",
       "    </tr>\n",
       "  </tbody>\n",
       "</table>\n",
       "</div>"
      ],
      "text/plain": [
       "   Unnamed: 0_x  Movie_id          title  \\\n",
       "0             0       238  The Godfather   \n",
       "\n",
       "                                              Genres release_date  \\\n",
       "0  [{'id': 18, 'name': 'Drama'}, {'id': 80, 'name...   1972-03-14   \n",
       "\n",
       "                                            Keywords  \\\n",
       "0  [{'id': 131, 'name': 'italy'}, {'id': 697, 'na...   \n",
       "\n",
       "                                            overview  \\\n",
       "0  Spanning the years 1945 to 1955, a chronicle o...   \n",
       "\n",
       "                        poster_path     Budget    Revenue  popularity  \\\n",
       "0  /3bhkrj58Vtu7enYsRolD1fZdja1.jpg  245066411  245066411      93.552   \n",
       "\n",
       "   vote_average  vote_count  Unnamed: 0_y  \\\n",
       "0           8.7       16814             0   \n",
       "\n",
       "                                                Cast  \\\n",
       "0  [{'adult': False, 'gender': 2, 'id': 3084, 'kn...   \n",
       "\n",
       "                                                Crew  \n",
       "0  [{'adult': False, 'gender': 2, 'id': 154, 'kno...  "
      ]
     },
     "execution_count": 7,
     "metadata": {},
     "output_type": "execute_result"
    }
   ],
   "source": [
    "movies.head(1)"
   ]
  },
  {
   "cell_type": "code",
   "execution_count": 8,
   "metadata": {
    "execution": {
     "iopub.execute_input": "2022-11-22T15:43:38.766943Z",
     "iopub.status.busy": "2022-11-22T15:43:38.766574Z",
     "iopub.status.idle": "2022-11-22T15:43:38.782224Z",
     "shell.execute_reply": "2022-11-22T15:43:38.780939Z",
     "shell.execute_reply.started": "2022-11-22T15:43:38.766912Z"
    }
   },
   "outputs": [],
   "source": [
    "#chose column \n",
    "movies=movies[['Movie_id','title','Genres',\"Keywords\",'overview','Cast','Crew']]"
   ]
  },
  {
   "cell_type": "code",
   "execution_count": 9,
   "metadata": {
    "execution": {
     "iopub.execute_input": "2022-11-22T15:43:38.784813Z",
     "iopub.status.busy": "2022-11-22T15:43:38.784296Z",
     "iopub.status.idle": "2022-11-22T15:43:38.804668Z",
     "shell.execute_reply": "2022-11-22T15:43:38.802958Z",
     "shell.execute_reply.started": "2022-11-22T15:43:38.784775Z"
    }
   },
   "outputs": [
    {
     "data": {
      "text/plain": [
       "Movie_id    0\n",
       "title       0\n",
       "Genres      0\n",
       "Keywords    0\n",
       "overview    6\n",
       "Cast        0\n",
       "Crew        0\n",
       "dtype: int64"
      ]
     },
     "execution_count": 9,
     "metadata": {},
     "output_type": "execute_result"
    }
   ],
   "source": [
    "movies.isnull().sum()"
   ]
  },
  {
   "cell_type": "code",
   "execution_count": 10,
   "metadata": {
    "execution": {
     "iopub.execute_input": "2022-11-22T15:43:38.806801Z",
     "iopub.status.busy": "2022-11-22T15:43:38.806041Z",
     "iopub.status.idle": "2022-11-22T15:43:38.829663Z",
     "shell.execute_reply": "2022-11-22T15:43:38.828469Z",
     "shell.execute_reply.started": "2022-11-22T15:43:38.806759Z"
    }
   },
   "outputs": [],
   "source": [
    "movies.dropna(inplace=True) #drop missing values data"
   ]
  },
  {
   "cell_type": "code",
   "execution_count": 11,
   "metadata": {
    "execution": {
     "iopub.execute_input": "2022-11-22T15:43:38.832352Z",
     "iopub.status.busy": "2022-11-22T15:43:38.831954Z",
     "iopub.status.idle": "2022-11-22T15:43:38.850100Z",
     "shell.execute_reply": "2022-11-22T15:43:38.848893Z",
     "shell.execute_reply.started": "2022-11-22T15:43:38.832319Z"
    }
   },
   "outputs": [
    {
     "data": {
      "text/plain": [
       "Movie_id    0\n",
       "title       0\n",
       "Genres      0\n",
       "Keywords    0\n",
       "overview    0\n",
       "Cast        0\n",
       "Crew        0\n",
       "dtype: int64"
      ]
     },
     "execution_count": 11,
     "metadata": {},
     "output_type": "execute_result"
    }
   ],
   "source": [
    "movies.isnull().sum()"
   ]
  },
  {
   "cell_type": "code",
   "execution_count": 12,
   "metadata": {
    "execution": {
     "iopub.execute_input": "2022-11-22T15:43:38.851495Z",
     "iopub.status.busy": "2022-11-22T15:43:38.851120Z",
     "iopub.status.idle": "2022-11-22T15:43:39.752560Z",
     "shell.execute_reply": "2022-11-22T15:43:39.751298Z",
     "shell.execute_reply.started": "2022-11-22T15:43:38.851462Z"
    }
   },
   "outputs": [
    {
     "data": {
      "text/plain": [
       "0"
      ]
     },
     "execution_count": 12,
     "metadata": {},
     "output_type": "execute_result"
    }
   ],
   "source": [
    "movies.duplicated().sum()"
   ]
  },
  {
   "cell_type": "code",
   "execution_count": 13,
   "metadata": {
    "execution": {
     "iopub.execute_input": "2022-11-22T15:43:39.759611Z",
     "iopub.status.busy": "2022-11-22T15:43:39.758598Z",
     "iopub.status.idle": "2022-11-22T15:43:39.772883Z",
     "shell.execute_reply": "2022-11-22T15:43:39.769563Z",
     "shell.execute_reply.started": "2022-11-22T15:43:39.759523Z"
    }
   },
   "outputs": [
    {
     "data": {
      "text/plain": [
       "<function ast.literal_eval(node_or_string)>"
      ]
     },
     "execution_count": 13,
     "metadata": {},
     "output_type": "execute_result"
    }
   ],
   "source": [
    "# now convert those string list  item into list\n",
    "import ast\n",
    "ast.literal_eval"
   ]
  },
  {
   "cell_type": "code",
   "execution_count": 14,
   "metadata": {
    "execution": {
     "iopub.execute_input": "2022-11-22T15:43:39.776336Z",
     "iopub.status.busy": "2022-11-22T15:43:39.774608Z",
     "iopub.status.idle": "2022-11-22T15:43:39.783172Z",
     "shell.execute_reply": "2022-11-22T15:43:39.782094Z",
     "shell.execute_reply.started": "2022-11-22T15:43:39.776282Z"
    }
   },
   "outputs": [],
   "source": [
    "def convert(obj):\n",
    "    L =[]\n",
    "    for i in ast.literal_eval(obj):\n",
    "        L.append(i['name'])\n",
    "    return L"
   ]
  },
  {
   "cell_type": "code",
   "execution_count": 15,
   "metadata": {
    "execution": {
     "iopub.execute_input": "2022-11-22T15:43:39.786879Z",
     "iopub.status.busy": "2022-11-22T15:43:39.784854Z",
     "iopub.status.idle": "2022-11-22T15:43:40.186596Z",
     "shell.execute_reply": "2022-11-22T15:43:40.185192Z",
     "shell.execute_reply.started": "2022-11-22T15:43:39.786824Z"
    }
   },
   "outputs": [
    {
     "data": {
      "text/html": [
       "<div>\n",
       "<style scoped>\n",
       "    .dataframe tbody tr th:only-of-type {\n",
       "        vertical-align: middle;\n",
       "    }\n",
       "\n",
       "    .dataframe tbody tr th {\n",
       "        vertical-align: top;\n",
       "    }\n",
       "\n",
       "    .dataframe thead th {\n",
       "        text-align: right;\n",
       "    }\n",
       "</style>\n",
       "<table border=\"1\" class=\"dataframe\">\n",
       "  <thead>\n",
       "    <tr style=\"text-align: right;\">\n",
       "      <th></th>\n",
       "      <th>Movie_id</th>\n",
       "      <th>title</th>\n",
       "      <th>Genres</th>\n",
       "      <th>Keywords</th>\n",
       "      <th>overview</th>\n",
       "      <th>Cast</th>\n",
       "      <th>Crew</th>\n",
       "    </tr>\n",
       "  </thead>\n",
       "  <tbody>\n",
       "    <tr>\n",
       "      <th>0</th>\n",
       "      <td>238</td>\n",
       "      <td>The Godfather</td>\n",
       "      <td>[Drama, Crime]</td>\n",
       "      <td>[{'id': 131, 'name': 'italy'}, {'id': 697, 'na...</td>\n",
       "      <td>Spanning the years 1945 to 1955, a chronicle o...</td>\n",
       "      <td>[{'adult': False, 'gender': 2, 'id': 3084, 'kn...</td>\n",
       "      <td>[{'adult': False, 'gender': 2, 'id': 154, 'kno...</td>\n",
       "    </tr>\n",
       "    <tr>\n",
       "      <th>1</th>\n",
       "      <td>278</td>\n",
       "      <td>The Shawshank Redemption</td>\n",
       "      <td>[Drama, Crime]</td>\n",
       "      <td>[{'id': 378, 'name': 'prison'}, {'id': 417, 'n...</td>\n",
       "      <td>Framed in the 1940s for the double murder of h...</td>\n",
       "      <td>[{'adult': False, 'gender': 2, 'id': 504, 'kno...</td>\n",
       "      <td>[{'adult': False, 'gender': 2, 'id': 153, 'kno...</td>\n",
       "    </tr>\n",
       "    <tr>\n",
       "      <th>2</th>\n",
       "      <td>240</td>\n",
       "      <td>The Godfather Part II</td>\n",
       "      <td>[Drama, Crime]</td>\n",
       "      <td>[{'id': 131, 'name': 'italy'}, {'id': 700, 'na...</td>\n",
       "      <td>In the continuing saga of the Corleone crime f...</td>\n",
       "      <td>[{'adult': False, 'gender': 2, 'id': 1158, 'kn...</td>\n",
       "      <td>[{'adult': False, 'gender': 2, 'id': 154, 'kno...</td>\n",
       "    </tr>\n",
       "    <tr>\n",
       "      <th>3</th>\n",
       "      <td>19404</td>\n",
       "      <td>Dilwale Dulhania Le Jayenge</td>\n",
       "      <td>[Comedy, Drama, Romance]</td>\n",
       "      <td>[]</td>\n",
       "      <td>Raj is a rich, carefree, happy-go-lucky second...</td>\n",
       "      <td>[{'adult': False, 'gender': 2, 'id': 35742, 'k...</td>\n",
       "      <td>[{'adult': False, 'gender': 1, 'id': 8311, 'kn...</td>\n",
       "    </tr>\n",
       "    <tr>\n",
       "      <th>4</th>\n",
       "      <td>424</td>\n",
       "      <td>Schindler's List</td>\n",
       "      <td>[Drama, History, War]</td>\n",
       "      <td>[{'id': 818, 'name': 'based on novel or book'}...</td>\n",
       "      <td>The true story of how businessman Oskar Schind...</td>\n",
       "      <td>[{'adult': False, 'gender': 2, 'id': 3896, 'kn...</td>\n",
       "      <td>[{'adult': False, 'gender': 2, 'id': 491, 'kno...</td>\n",
       "    </tr>\n",
       "  </tbody>\n",
       "</table>\n",
       "</div>"
      ],
      "text/plain": [
       "   Movie_id                        title                    Genres  \\\n",
       "0       238                The Godfather            [Drama, Crime]   \n",
       "1       278     The Shawshank Redemption            [Drama, Crime]   \n",
       "2       240        The Godfather Part II            [Drama, Crime]   \n",
       "3     19404  Dilwale Dulhania Le Jayenge  [Comedy, Drama, Romance]   \n",
       "4       424             Schindler's List     [Drama, History, War]   \n",
       "\n",
       "                                            Keywords  \\\n",
       "0  [{'id': 131, 'name': 'italy'}, {'id': 697, 'na...   \n",
       "1  [{'id': 378, 'name': 'prison'}, {'id': 417, 'n...   \n",
       "2  [{'id': 131, 'name': 'italy'}, {'id': 700, 'na...   \n",
       "3                                                 []   \n",
       "4  [{'id': 818, 'name': 'based on novel or book'}...   \n",
       "\n",
       "                                            overview  \\\n",
       "0  Spanning the years 1945 to 1955, a chronicle o...   \n",
       "1  Framed in the 1940s for the double murder of h...   \n",
       "2  In the continuing saga of the Corleone crime f...   \n",
       "3  Raj is a rich, carefree, happy-go-lucky second...   \n",
       "4  The true story of how businessman Oskar Schind...   \n",
       "\n",
       "                                                Cast  \\\n",
       "0  [{'adult': False, 'gender': 2, 'id': 3084, 'kn...   \n",
       "1  [{'adult': False, 'gender': 2, 'id': 504, 'kno...   \n",
       "2  [{'adult': False, 'gender': 2, 'id': 1158, 'kn...   \n",
       "3  [{'adult': False, 'gender': 2, 'id': 35742, 'k...   \n",
       "4  [{'adult': False, 'gender': 2, 'id': 3896, 'kn...   \n",
       "\n",
       "                                                Crew  \n",
       "0  [{'adult': False, 'gender': 2, 'id': 154, 'kno...  \n",
       "1  [{'adult': False, 'gender': 2, 'id': 153, 'kno...  \n",
       "2  [{'adult': False, 'gender': 2, 'id': 154, 'kno...  \n",
       "3  [{'adult': False, 'gender': 1, 'id': 8311, 'kn...  \n",
       "4  [{'adult': False, 'gender': 2, 'id': 491, 'kno...  "
      ]
     },
     "execution_count": 15,
     "metadata": {},
     "output_type": "execute_result"
    }
   ],
   "source": [
    "movies['Genres'] = movies['Genres'].apply(convert)\n",
    "movies.head()"
   ]
  },
  {
   "cell_type": "code",
   "execution_count": 16,
   "metadata": {
    "execution": {
     "iopub.execute_input": "2022-11-22T15:43:40.188457Z",
     "iopub.status.busy": "2022-11-22T15:43:40.188083Z",
     "iopub.status.idle": "2022-11-22T15:43:41.192417Z",
     "shell.execute_reply": "2022-11-22T15:43:41.190412Z",
     "shell.execute_reply.started": "2022-11-22T15:43:40.188425Z"
    }
   },
   "outputs": [],
   "source": [
    "movies['Keywords']=movies['Keywords'].apply(convert)"
   ]
  },
  {
   "cell_type": "code",
   "execution_count": 17,
   "metadata": {
    "execution": {
     "iopub.execute_input": "2022-11-22T15:43:41.194859Z",
     "iopub.status.busy": "2022-11-22T15:43:41.194274Z",
     "iopub.status.idle": "2022-11-22T15:43:41.202230Z",
     "shell.execute_reply": "2022-11-22T15:43:41.200727Z",
     "shell.execute_reply.started": "2022-11-22T15:43:41.194806Z"
    }
   },
   "outputs": [],
   "source": [
    "#movies_cast name\n",
    "def convert3(obj):\n",
    "    L =[]\n",
    "    counter=0\n",
    "    for i in ast.literal_eval(obj):\n",
    "        if counter !=3:\n",
    "            L.append(i['name'])\n",
    "            counter+=1\n",
    "    return L"
   ]
  },
  {
   "cell_type": "code",
   "execution_count": 18,
   "metadata": {
    "execution": {
     "iopub.execute_input": "2022-11-22T15:43:41.204594Z",
     "iopub.status.busy": "2022-11-22T15:43:41.204115Z",
     "iopub.status.idle": "2022-11-22T15:44:02.168599Z",
     "shell.execute_reply": "2022-11-22T15:44:02.167284Z",
     "shell.execute_reply.started": "2022-11-22T15:43:41.204538Z"
    }
   },
   "outputs": [],
   "source": [
    "movies['Cast']=movies['Cast'].apply(convert3)"
   ]
  },
  {
   "cell_type": "code",
   "execution_count": 19,
   "metadata": {
    "execution": {
     "iopub.execute_input": "2022-11-22T15:44:02.171157Z",
     "iopub.status.busy": "2022-11-22T15:44:02.170647Z",
     "iopub.status.idle": "2022-11-22T15:44:02.178204Z",
     "shell.execute_reply": "2022-11-22T15:44:02.176669Z",
     "shell.execute_reply.started": "2022-11-22T15:44:02.171106Z"
    }
   },
   "outputs": [],
   "source": [
    "def fetch_directoer(obj):\n",
    "    L =[]\n",
    "    for i in ast.literal_eval(obj):\n",
    "        if i['job']==\"Director\":\n",
    "            L.append(i['name'])\n",
    "            break\n",
    "    return L"
   ]
  },
  {
   "cell_type": "code",
   "execution_count": 20,
   "metadata": {
    "execution": {
     "iopub.execute_input": "2022-11-22T15:44:02.180666Z",
     "iopub.status.busy": "2022-11-22T15:44:02.180005Z",
     "iopub.status.idle": "2022-11-22T15:44:42.650154Z",
     "shell.execute_reply": "2022-11-22T15:44:42.649115Z",
     "shell.execute_reply.started": "2022-11-22T15:44:02.180613Z"
    }
   },
   "outputs": [],
   "source": [
    "movies['Crew']=movies['Crew'].apply(fetch_directoer)"
   ]
  },
  {
   "cell_type": "code",
   "execution_count": 21,
   "metadata": {
    "execution": {
     "iopub.execute_input": "2022-11-22T15:44:42.652064Z",
     "iopub.status.busy": "2022-11-22T15:44:42.651439Z",
     "iopub.status.idle": "2022-11-22T15:44:42.721729Z",
     "shell.execute_reply": "2022-11-22T15:44:42.720449Z",
     "shell.execute_reply.started": "2022-11-22T15:44:42.652027Z"
    }
   },
   "outputs": [],
   "source": [
    "movies['overview']=movies['overview'].apply(lambda x: x.split())"
   ]
  },
  {
   "cell_type": "code",
   "execution_count": 22,
   "metadata": {
    "execution": {
     "iopub.execute_input": "2022-11-22T15:44:42.724114Z",
     "iopub.status.busy": "2022-11-22T15:44:42.723460Z",
     "iopub.status.idle": "2022-11-22T15:44:42.992515Z",
     "shell.execute_reply": "2022-11-22T15:44:42.991244Z",
     "shell.execute_reply.started": "2022-11-22T15:44:42.724068Z"
    }
   },
   "outputs": [],
   "source": [
    "#remove space in between two worrds\n",
    "movies['Genres']=movies['Genres'].apply(lambda x : [i.replace(\" \",\"\")for i in x])\n",
    "movies['Keywords']=movies['Keywords'].apply(lambda x : [i.replace(\" \",\"\")for i in x])\n",
    "movies['Cast']=movies['Cast'].apply(lambda x : [i.replace(\" \",\"\")for i in x])\n",
    "movies['Crew']=movies['Crew'].apply(lambda x : [i.replace(\" \",\"\")for i in x])"
   ]
  },
  {
   "cell_type": "code",
   "execution_count": 23,
   "metadata": {
    "execution": {
     "iopub.execute_input": "2022-11-22T15:44:42.994795Z",
     "iopub.status.busy": "2022-11-22T15:44:42.994224Z",
     "iopub.status.idle": "2022-11-22T15:44:43.078788Z",
     "shell.execute_reply": "2022-11-22T15:44:43.076869Z",
     "shell.execute_reply.started": "2022-11-22T15:44:42.994757Z"
    }
   },
   "outputs": [],
   "source": [
    "movies['tags']= movies['Genres'] + movies['Keywords'] + movies['Cast'] + movies['Crew'] + movies['overview']"
   ]
  },
  {
   "cell_type": "code",
   "execution_count": 24,
   "metadata": {
    "execution": {
     "iopub.execute_input": "2022-11-22T15:44:43.081332Z",
     "iopub.status.busy": "2022-11-22T15:44:43.080591Z",
     "iopub.status.idle": "2022-11-22T15:44:43.105450Z",
     "shell.execute_reply": "2022-11-22T15:44:43.104250Z",
     "shell.execute_reply.started": "2022-11-22T15:44:43.081285Z"
    }
   },
   "outputs": [
    {
     "data": {
      "text/html": [
       "<div>\n",
       "<style scoped>\n",
       "    .dataframe tbody tr th:only-of-type {\n",
       "        vertical-align: middle;\n",
       "    }\n",
       "\n",
       "    .dataframe tbody tr th {\n",
       "        vertical-align: top;\n",
       "    }\n",
       "\n",
       "    .dataframe thead th {\n",
       "        text-align: right;\n",
       "    }\n",
       "</style>\n",
       "<table border=\"1\" class=\"dataframe\">\n",
       "  <thead>\n",
       "    <tr style=\"text-align: right;\">\n",
       "      <th></th>\n",
       "      <th>Movie_id</th>\n",
       "      <th>title</th>\n",
       "      <th>Genres</th>\n",
       "      <th>Keywords</th>\n",
       "      <th>overview</th>\n",
       "      <th>Cast</th>\n",
       "      <th>Crew</th>\n",
       "      <th>tags</th>\n",
       "    </tr>\n",
       "  </thead>\n",
       "  <tbody>\n",
       "    <tr>\n",
       "      <th>0</th>\n",
       "      <td>238</td>\n",
       "      <td>The Godfather</td>\n",
       "      <td>[Drama, Crime]</td>\n",
       "      <td>[italy, lossoflovedone, loveatfirstsight, base...</td>\n",
       "      <td>[Spanning, the, years, 1945, to, 1955,, a, chr...</td>\n",
       "      <td>[MarlonBrando, AlPacino, JamesCaan]</td>\n",
       "      <td>[FrancisFordCoppola]</td>\n",
       "      <td>[Drama, Crime, italy, lossoflovedone, loveatfi...</td>\n",
       "    </tr>\n",
       "    <tr>\n",
       "      <th>1</th>\n",
       "      <td>278</td>\n",
       "      <td>The Shawshank Redemption</td>\n",
       "      <td>[Drama, Crime]</td>\n",
       "      <td>[prison, corruption, policebrutality, basedonn...</td>\n",
       "      <td>[Framed, in, the, 1940s, for, the, double, mur...</td>\n",
       "      <td>[TimRobbins, MorganFreeman, BobGunton]</td>\n",
       "      <td>[FrankDarabont]</td>\n",
       "      <td>[Drama, Crime, prison, corruption, policebruta...</td>\n",
       "    </tr>\n",
       "  </tbody>\n",
       "</table>\n",
       "</div>"
      ],
      "text/plain": [
       "   Movie_id                     title          Genres  \\\n",
       "0       238             The Godfather  [Drama, Crime]   \n",
       "1       278  The Shawshank Redemption  [Drama, Crime]   \n",
       "\n",
       "                                            Keywords  \\\n",
       "0  [italy, lossoflovedone, loveatfirstsight, base...   \n",
       "1  [prison, corruption, policebrutality, basedonn...   \n",
       "\n",
       "                                            overview  \\\n",
       "0  [Spanning, the, years, 1945, to, 1955,, a, chr...   \n",
       "1  [Framed, in, the, 1940s, for, the, double, mur...   \n",
       "\n",
       "                                     Cast                  Crew  \\\n",
       "0     [MarlonBrando, AlPacino, JamesCaan]  [FrancisFordCoppola]   \n",
       "1  [TimRobbins, MorganFreeman, BobGunton]       [FrankDarabont]   \n",
       "\n",
       "                                                tags  \n",
       "0  [Drama, Crime, italy, lossoflovedone, loveatfi...  \n",
       "1  [Drama, Crime, prison, corruption, policebruta...  "
      ]
     },
     "execution_count": 24,
     "metadata": {},
     "output_type": "execute_result"
    }
   ],
   "source": [
    "movies.head(2)"
   ]
  },
  {
   "cell_type": "code",
   "execution_count": 25,
   "metadata": {
    "execution": {
     "iopub.execute_input": "2022-11-22T15:44:43.107288Z",
     "iopub.status.busy": "2022-11-22T15:44:43.106841Z",
     "iopub.status.idle": "2022-11-22T15:44:43.117425Z",
     "shell.execute_reply": "2022-11-22T15:44:43.116481Z",
     "shell.execute_reply.started": "2022-11-22T15:44:43.107248Z"
    }
   },
   "outputs": [],
   "source": [
    "#fetch three columns from dataframe\n",
    "new_df = movies[['Movie_id','title','tags']]"
   ]
  },
  {
   "cell_type": "code",
   "execution_count": 26,
   "metadata": {
    "execution": {
     "iopub.execute_input": "2022-11-22T15:44:43.119742Z",
     "iopub.status.busy": "2022-11-22T15:44:43.118686Z",
     "iopub.status.idle": "2022-11-22T15:44:43.174055Z",
     "shell.execute_reply": "2022-11-22T15:44:43.172751Z",
     "shell.execute_reply.started": "2022-11-22T15:44:43.119693Z"
    }
   },
   "outputs": [],
   "source": [
    "#conver list into string and make those lower case\n",
    "new_df['tags']=new_df['tags'].apply(lambda x: \" \".join(x))\n",
    "new_df['tags']=new_df['tags'].apply(lambda x: x.lower())"
   ]
  },
  {
   "cell_type": "code",
   "execution_count": 27,
   "metadata": {
    "execution": {
     "iopub.execute_input": "2022-11-22T15:45:27.996199Z",
     "iopub.status.busy": "2022-11-22T15:45:27.995762Z",
     "iopub.status.idle": "2022-11-22T15:45:28.004156Z",
     "shell.execute_reply": "2022-11-22T15:45:28.002831Z",
     "shell.execute_reply.started": "2022-11-22T15:45:27.996166Z"
    }
   },
   "outputs": [
    {
     "name": "stderr",
     "output_type": "stream",
     "text": [
      "[nltk_data] Downloading package wordnet to\n",
      "[nltk_data]     C:\\Users\\admin\\AppData\\Roaming\\nltk_data...\n",
      "[nltk_data]   Package wordnet is already up-to-date!\n"
     ]
    }
   ],
   "source": [
    "import nltk\n",
    "nltk.download('wordnet')\n",
    "from nltk.stem import PorterStemmer,WordNetLemmatizer\n",
    "ps=PorterStemmer()\n",
    "wnl = WordNetLemmatizer()"
   ]
  },
  {
   "cell_type": "code",
   "execution_count": 28,
   "metadata": {
    "execution": {
     "iopub.execute_input": "2022-11-22T15:45:30.803984Z",
     "iopub.status.busy": "2022-11-22T15:45:30.803524Z",
     "iopub.status.idle": "2022-11-22T15:45:30.811652Z",
     "shell.execute_reply": "2022-11-22T15:45:30.810536Z",
     "shell.execute_reply.started": "2022-11-22T15:45:30.803947Z"
    }
   },
   "outputs": [],
   "source": [
    "def steam(text):\n",
    "    y=[]\n",
    "    for i in text.split():\n",
    "        y.append (ps.stem(i))\n",
    "    return \" \".join(y)\n",
    "\n",
    "def lemmi(text):\n",
    "    y=[]\n",
    "    for i in text.split():\n",
    "        y.append (ps.wnl(i))\n",
    "    return \" \".join(y)\n",
    "    "
   ]
  },
  {
   "cell_type": "code",
   "execution_count": 29,
   "metadata": {
    "execution": {
     "iopub.execute_input": "2022-11-22T15:45:32.252360Z",
     "iopub.status.busy": "2022-11-22T15:45:32.251325Z",
     "iopub.status.idle": "2022-11-22T15:46:03.178914Z",
     "shell.execute_reply": "2022-11-22T15:46:03.177416Z",
     "shell.execute_reply.started": "2022-11-22T15:45:32.252316Z"
    }
   },
   "outputs": [],
   "source": [
    "#lemmitization\n",
    "new_df['tags1']=new_df['tags'].apply(steam)\n",
    "#porter_steammer\n",
    "new_df['tags']=new_df['tags'].apply(steam)"
   ]
  },
  {
   "cell_type": "code",
   "execution_count": 30,
   "metadata": {
    "execution": {
     "iopub.execute_input": "2022-11-22T15:46:07.298760Z",
     "iopub.status.busy": "2022-11-22T15:46:07.298341Z",
     "iopub.status.idle": "2022-11-22T15:46:07.303844Z",
     "shell.execute_reply": "2022-11-22T15:46:07.302624Z",
     "shell.execute_reply.started": "2022-11-22T15:46:07.298716Z"
    }
   },
   "outputs": [],
   "source": [
    "#take 50000 feathures using features extraction\n",
    "from sklearn.feature_extraction.text import CountVectorizer, TfidfVectorizer"
   ]
  },
  {
   "cell_type": "code",
   "execution_count": 31,
   "metadata": {
    "execution": {
     "iopub.execute_input": "2022-11-22T15:46:09.142895Z",
     "iopub.status.busy": "2022-11-22T15:46:09.142501Z",
     "iopub.status.idle": "2022-11-22T15:46:10.371312Z",
     "shell.execute_reply": "2022-11-22T15:46:10.370078Z",
     "shell.execute_reply.started": "2022-11-22T15:46:09.142863Z"
    }
   },
   "outputs": [
    {
     "data": {
      "text/plain": [
       "'bureaucrat'"
      ]
     },
     "execution_count": 31,
     "metadata": {},
     "output_type": "execute_result"
    }
   ],
   "source": [
    "#CounterVectorizer or Bag of word with porterSteamer\n",
    "CV= CountVectorizer(max_features=8000, stop_words=\"english\")\n",
    "vector=CV.fit_transform(new_df['tags']).toarray()\n",
    "#check random features name\n",
    "CV.get_feature_names()[1002]"
   ]
  },
  {
   "cell_type": "code",
   "execution_count": 32,
   "metadata": {
    "execution": {
     "iopub.execute_input": "2022-11-22T15:46:14.282568Z",
     "iopub.status.busy": "2022-11-22T15:46:14.282127Z",
     "iopub.status.idle": "2022-11-22T15:46:15.103020Z",
     "shell.execute_reply": "2022-11-22T15:46:15.101999Z",
     "shell.execute_reply.started": "2022-11-22T15:46:14.282532Z"
    }
   },
   "outputs": [
    {
     "data": {
      "text/plain": [
       "'carlo'"
      ]
     },
     "execution_count": 32,
     "metadata": {},
     "output_type": "execute_result"
    }
   ],
   "source": [
    "#TFIDF with lemmitization\n",
    "tfidf=TfidfVectorizer(max_features=7000,analyzer='word',stop_words=\"english\")\n",
    "tfdf_features=tfidf.fit_transform(new_df['tags1'])\n",
    "tfidf.get_feature_names_out()[1002] #check random features name"
   ]
  },
  {
   "cell_type": "code",
   "execution_count": 33,
   "metadata": {
    "execution": {
     "iopub.execute_input": "2022-11-22T15:46:19.818676Z",
     "iopub.status.busy": "2022-11-22T15:46:19.818150Z",
     "iopub.status.idle": "2022-11-22T15:46:19.825300Z",
     "shell.execute_reply": "2022-11-22T15:46:19.824269Z",
     "shell.execute_reply.started": "2022-11-22T15:46:19.818562Z"
    }
   },
   "outputs": [],
   "source": [
    "from sklearn.metrics.pairwise import cosine_similarity"
   ]
  },
  {
   "cell_type": "code",
   "execution_count": null,
   "metadata": {
    "execution": {
     "iopub.execute_input": "2022-11-22T15:46:22.277472Z",
     "iopub.status.busy": "2022-11-22T15:46:22.276893Z",
     "iopub.status.idle": "2022-11-22T15:46:35.867302Z",
     "shell.execute_reply": "2022-11-22T15:46:35.865489Z",
     "shell.execute_reply.started": "2022-11-22T15:46:22.277427Z"
    }
   },
   "outputs": [],
   "source": [
    "#Apply cosine similarity with Counter Vectorizer\n",
    "similarity=cosine_similarity(vector)\n",
    "new_df[new_df['title']=='Avatar'].index[0]"
   ]
  },
  {
   "cell_type": "code",
   "execution_count": null,
   "metadata": {
    "execution": {
     "iopub.status.busy": "2022-11-22T15:44:43.214305Z",
     "iopub.status.idle": "2022-11-22T15:44:43.214895Z",
     "shell.execute_reply": "2022-11-22T15:44:43.214574Z",
     "shell.execute_reply.started": "2022-11-22T15:44:43.214553Z"
    }
   },
   "outputs": [],
   "source": [
    "#give every movie index number details is comming\n",
    "sorted(list(enumerate(similarity[0])), reverse=True, key=lambda x : x[1])[1:6] # key define second column basis sort"
   ]
  },
  {
   "cell_type": "code",
   "execution_count": null,
   "metadata": {
    "execution": {
     "iopub.execute_input": "2022-11-22T15:47:01.613751Z",
     "iopub.status.busy": "2022-11-22T15:47:01.613039Z",
     "iopub.status.idle": "2022-11-22T15:47:05.748886Z",
     "shell.execute_reply": "2022-11-22T15:47:05.746988Z",
     "shell.execute_reply.started": "2022-11-22T15:47:01.613671Z"
    }
   },
   "outputs": [],
   "source": [
    "#Apply cosine similarity with tfIDF\n",
    "tfdf_similarity=cosine_similarity(tfdf_features)"
   ]
  },
  {
   "cell_type": "code",
   "execution_count": null,
   "metadata": {
    "execution": {
     "iopub.execute_input": "2022-11-22T15:47:09.859687Z",
     "iopub.status.busy": "2022-11-22T15:47:09.858991Z",
     "iopub.status.idle": "2022-11-22T15:47:09.867140Z",
     "shell.execute_reply": "2022-11-22T15:47:09.865185Z",
     "shell.execute_reply.started": "2022-11-22T15:47:09.859650Z"
    }
   },
   "outputs": [],
   "source": [
    "def Recommend_Movies_with_BOW(movie):\n",
    "    movie_index=new_df[new_df['title']==movie].index[0]\n",
    "    distance=similarity[movie_index]\n",
    "    movies_list=sorted(list(enumerate(distance)), reverse=True, key=lambda x : x[1])[1:6]\n",
    "    \n",
    "    for i in movies_list:\n",
    "        print(new_df.iloc[i[0]].title)\n",
    "    "
   ]
  },
  {
   "cell_type": "code",
   "execution_count": null,
   "metadata": {
    "execution": {
     "iopub.execute_input": "2022-11-22T15:47:12.682884Z",
     "iopub.status.busy": "2022-11-22T15:47:12.682436Z",
     "iopub.status.idle": "2022-11-22T15:47:12.702104Z",
     "shell.execute_reply": "2022-11-22T15:47:12.700587Z",
     "shell.execute_reply.started": "2022-11-22T15:47:12.682849Z"
    }
   },
   "outputs": [],
   "source": [
    "#Recomandation with movie\n",
    "#Recommend_Movies_with_BOW('Batman Begins')\n",
    "Recommend_Movies_with_BOW('The Notebook')\n",
    "#Recommend_Movies_with_BOW('marvel')"
   ]
  },
  {
   "cell_type": "code",
   "execution_count": null,
   "metadata": {
    "execution": {
     "iopub.execute_input": "2022-11-22T15:47:15.786579Z",
     "iopub.status.busy": "2022-11-22T15:47:15.786153Z",
     "iopub.status.idle": "2022-11-22T15:47:15.809501Z",
     "shell.execute_reply": "2022-11-22T15:47:15.807965Z",
     "shell.execute_reply.started": "2022-11-22T15:47:15.786544Z"
    }
   },
   "outputs": [],
   "source": [
    "Recommend_Movies_with_BOW(\"Avatar\")"
   ]
  },
  {
   "cell_type": "code",
   "execution_count": null,
   "metadata": {
    "execution": {
     "iopub.execute_input": "2022-11-22T15:47:16.652808Z",
     "iopub.status.busy": "2022-11-22T15:47:16.652385Z",
     "iopub.status.idle": "2022-11-22T15:47:16.675448Z",
     "shell.execute_reply": "2022-11-22T15:47:16.673150Z",
     "shell.execute_reply.started": "2022-11-22T15:47:16.652776Z"
    }
   },
   "outputs": [],
   "source": [
    "Recommend_Movies_with_BOW(\"The Godfather\")"
   ]
  },
  {
   "cell_type": "code",
   "execution_count": null,
   "metadata": {
    "execution": {
     "iopub.execute_input": "2022-11-22T15:47:22.497389Z",
     "iopub.status.busy": "2022-11-22T15:47:22.496983Z",
     "iopub.status.idle": "2022-11-22T15:47:22.505017Z",
     "shell.execute_reply": "2022-11-22T15:47:22.503294Z",
     "shell.execute_reply.started": "2022-11-22T15:47:22.497358Z"
    }
   },
   "outputs": [],
   "source": [
    "def Recommend_Movies_with_TFIDF(movie):\n",
    "        movie_index=new_df[new_df['title']==movie].index[0]\n",
    "        distance=tfdf_similarity[movie_index]\n",
    "        movies_list=sorted(list(enumerate(distance)), reverse=True, key=lambda x : x[1])[1:6]\n",
    "\n",
    "        for i in movies_list:\n",
    "            print(new_df.iloc[i[0]].title)"
   ]
  },
  {
   "cell_type": "code",
   "execution_count": null,
   "metadata": {
    "execution": {
     "iopub.execute_input": "2022-11-22T15:47:23.564983Z",
     "iopub.status.busy": "2022-11-22T15:47:23.564551Z",
     "iopub.status.idle": "2022-11-22T15:47:23.586291Z",
     "shell.execute_reply": "2022-11-22T15:47:23.584867Z",
     "shell.execute_reply.started": "2022-11-22T15:47:23.564951Z"
    }
   },
   "outputs": [],
   "source": [
    "Recommend_Movies_with_TFIDF(\"The Godfather\")"
   ]
  },
  {
   "cell_type": "code",
   "execution_count": null,
   "metadata": {
    "execution": {
     "iopub.execute_input": "2022-11-22T15:47:35.513536Z",
     "iopub.status.busy": "2022-11-22T15:47:35.513049Z",
     "iopub.status.idle": "2022-11-22T15:47:35.532988Z",
     "shell.execute_reply": "2022-11-22T15:47:35.531054Z",
     "shell.execute_reply.started": "2022-11-22T15:47:35.513497Z"
    }
   },
   "outputs": [],
   "source": [
    "Recommend_Movies_with_TFIDF(\"Avatar\")"
   ]
  },
  {
   "cell_type": "code",
   "execution_count": null,
   "metadata": {
    "execution": {
     "iopub.execute_input": "2022-11-22T15:47:46.082694Z",
     "iopub.status.busy": "2022-11-22T15:47:46.082162Z",
     "iopub.status.idle": "2022-11-22T15:47:46.100822Z",
     "shell.execute_reply": "2022-11-22T15:47:46.099820Z",
     "shell.execute_reply.started": "2022-11-22T15:47:46.082573Z"
    }
   },
   "outputs": [],
   "source": [
    "#Recommend_Movies_with_TFIDF('Batman Begins')\n",
    "Recommend_Movies_with_TFIDF('Inception')"
   ]
  },
  {
   "cell_type": "code",
   "execution_count": null,
   "metadata": {
    "execution": {
     "iopub.execute_input": "2022-11-22T15:48:02.928488Z",
     "iopub.status.busy": "2022-11-22T15:48:02.928000Z",
     "iopub.status.idle": "2022-11-22T15:48:03.013968Z",
     "shell.execute_reply": "2022-11-22T15:48:03.012795Z",
     "shell.execute_reply.started": "2022-11-22T15:48:02.928450Z"
    }
   },
   "outputs": [],
   "source": [
    "#Save the data\n",
    "import pickle\n",
    "pickle.dump(new_df.to_dict(), open('movie_dict.pkl', 'wb'))"
   ]
  },
  {
   "cell_type": "code",
   "execution_count": null,
   "metadata": {
    "execution": {
     "iopub.execute_input": "2022-11-22T15:48:04.533072Z",
     "iopub.status.busy": "2022-11-22T15:48:04.532687Z",
     "iopub.status.idle": "2022-11-22T15:48:06.162949Z",
     "shell.execute_reply": "2022-11-22T15:48:06.161357Z",
     "shell.execute_reply.started": "2022-11-22T15:48:04.533042Z"
    }
   },
   "outputs": [],
   "source": [
    "#save similarity matrix for better result\n",
    "pickle.dump(similarity, open('similarity.pkl','wb'))"
   ]
  },
  {
   "cell_type": "code",
   "execution_count": null,
   "metadata": {},
   "outputs": [],
   "source": []
  }
 ],
 "metadata": {
  "kernelspec": {
   "display_name": "Python 3 (ipykernel)",
   "language": "python",
   "name": "python3"
  },
  "language_info": {
   "codemirror_mode": {
    "name": "ipython",
    "version": 3
   },
   "file_extension": ".py",
   "mimetype": "text/x-python",
   "name": "python",
   "nbconvert_exporter": "python",
   "pygments_lexer": "ipython3",
   "version": "3.9.13"
  }
 },
 "nbformat": 4,
 "nbformat_minor": 4
}
